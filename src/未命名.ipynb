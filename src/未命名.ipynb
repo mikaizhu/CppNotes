{
 "cells": [
  {
   "cell_type": "code",
   "execution_count": 21,
   "id": "92391324",
   "metadata": {},
   "outputs": [],
   "source": [
    "import os\n",
    "import re"
   ]
  },
  {
   "cell_type": "code",
   "execution_count": 30,
   "id": "7155c3d3",
   "metadata": {},
   "outputs": [],
   "source": [
    "content = []\n",
    "with open('t.md') as f:\n",
    "    for line in f:\n",
    "        if line.startswith('*'):\n",
    "            content.append(re.search('\\[(.*?)\\]', line).group(1))"
   ]
  },
  {
   "cell_type": "code",
   "execution_count": 45,
   "id": "64c7f7cd",
   "metadata": {},
   "outputs": [
    {
     "data": {
      "text/plain": [
       "'目录'"
      ]
     },
     "execution_count": 45,
     "metadata": {},
     "output_type": "execute_result"
    }
   ],
   "source": [
    "content.pop(0)"
   ]
  },
  {
   "cell_type": "code",
   "execution_count": 46,
   "id": "a3e40fe6",
   "metadata": {},
   "outputs": [
    {
     "data": {
      "text/plain": [
       "['cpp教程推荐',\n",
       " '环境搭配',\n",
       " 'Day1 HelloWorld',\n",
       " 'Day2 Cmake',\n",
       " 'Day3 Link and Compile',\n",
       " 'day4 控制流语句',\n",
       " 'day5 变量和基本类型',\n",
       " 'day6 函数 和 头文件',\n",
       " 'day7 控制流语句 continue return break',\n",
       " 'day8 指针 引用',\n",
       " 'day9 类',\n",
       " 'day10 static extern',\n",
       " 'day 11',\n",
       " 'day12',\n",
       " 'day13',\n",
       " 'day14(TODO)']"
      ]
     },
     "execution_count": 46,
     "metadata": {},
     "output_type": "execute_result"
    }
   ],
   "source": [
    "content"
   ]
  },
  {
   "cell_type": "code",
   "execution_count": 74,
   "id": "b1cfd6dd",
   "metadata": {},
   "outputs": [
    {
     "name": "stdout",
     "output_type": "stream",
     "text": [
      "[back to top](# 目录)\n",
      "\n",
      "# cpp教程推荐\n",
      "\n",
      "[back to top](# 目录)\n",
      "\n",
      "# 环境搭配\n",
      "\n"
     ]
    }
   ],
   "source": [
    "front_line = \"\"\n",
    "add_content = f\"\\n[back to top](# 目录)\\n\"\n",
    "flag = 1\n",
    "pre_line = \"\"\n",
    "\n",
    "with open('t.md') as f:\n",
    "    for line in f:\n",
    "        key_words = line.split('#')[-1].strip()\n",
    "        \n",
    "        if pre_line.strip() == add_content.strip():\n",
    "            flag = 1\n",
    "        else:\n",
    "            flag = 0\n",
    "        #flag = 0 if line in add_content else 1\n",
    "        \n",
    "        if key_words in content and flag:\n",
    "            front_line += add_content + line\n",
    "        else:\n",
    "            front_line += line\n",
    "        pre_line = line\n",
    "\n",
    "\n",
    "#with open('t.md', 'w') as f:\n",
    "#    f.write(front_line)\n"
   ]
  },
  {
   "cell_type": "code",
   "execution_count": 62,
   "id": "c98532ef",
   "metadata": {},
   "outputs": [
    {
     "name": "stdout",
     "output_type": "stream",
     "text": [
      "['# 目录\\n', '\\n', '<!--ts-->\\n', '* [目录](#目录)\\n', '* [cpp教程推荐](#cpp教程推荐)\\n', '* [环境搭配](#环境搭配)\\n', '   * [Linux](#linux)\\n', '   * [Mac](#mac)\\n', '   * [运行逻辑](#运行逻辑)\\n', '   * [CMake](#cmake)\\n', '* [Day1 HelloWorld](#day1-helloworld)\\n', '* [Day2 Cmake](#day2-cmake)\\n', '* [Day3 Link and Compile](#day3-link-and-compile)\\n', '* [day4 控制流语句](#day4-控制流语句)\\n', '   * [while &amp; for 循环](#while--for-循环)\\n', '   * [if else 语句](#if-else-语句)\\n', '* [day5 变量和基本类型](#day5-变量和基本类型)\\n', '* [day6 函数 和 头文件](#day6-函数-和-头文件)\\n', '   * [函数](#函数)\\n', '   * [函数声明 变量声明](#函数声明-变量声明)\\n', '   * [头文件](#头文件)\\n', '   * [头文件中的#pragma once](#头文件中的pragma-once)\\n', '   * [预处理中\"\" 和 &lt;&gt; 的区别](#预处理中-和--的区别)\\n', '* [day7 控制流语句 continue return break](#day7-控制流语句-continue-return-break)\\n', '* [day8 指针 引用](#day8-指针-引用)\\n', '   * [指针](#指针)\\n', '   * [引用](#引用)\\n', '* [day9 类](#day9-类)\\n', '   * [类的定义](#类的定义)\\n', '   * [class &amp; struct 的区别](#class--struct-的区别)\\n', '   * [用类创建一个基本日志功能](#用类创建一个基本日志功能)\\n', '* [day10 static extern](#day10-static-extern)\\n', '   * [全局变量中的static](#全局变量中的static)\\n', '   * [类中的static](#类中的static)\\n', '   * [局部静态 local static](#局部静态-local-static)\\n', '* [day 11](#day-11)\\n', '   * [enumeration 枚举类型](#enumeration-枚举类型)\\n', '   * [变量说明](#变量说明)\\n', '* [day12](#day12)\\n', '   * [构造函数 constructor](#构造函数-constructor)\\n', '   * [destructor 析构函数](#destructor-析构函数)\\n', '   * [继承](#继承)\\n', '* [day13](#day13)\\n', '   * [数组](#数组)\\n', '      * [一维数组](#一维数组)\\n', '      * [多维度数组](#多维度数组)\\n', '      * [指向数组的指针](#指向数组的指针)\\n', '      * [传递数组给函数](#传递数组给函数)\\n', '      * [从函数返回数组](#从函数返回数组)\\n', '   * [字符串](#字符串)\\n', '* [day14(TODO)](#day14todo)\\n', '   * [虚函数](#虚函数)\\n', '   * [纯虚函数](#纯虚函数)\\n', '   * [可见性](#可见性)\\n', '* [TODO](#todo)\\n', '\\n', '<!-- Added by: zwl, at: 2021年 8月18日 星期三 20时33分11秒 CST -->\\n', '\\n', '<!--te-->\\n', '\\n', '\\n', '[back to top](# 目录)\\n', '# cpp教程推荐\\n', '\\n', '- 【B站】https://space.bilibili.com/364152971/video?tid=0&page=3&keyword=&order=pubdate\\n', '- 【菜鸟教程基本语法】https://www.runoob.com/cplusplus/cpp-tutorial.html\\n', '\\n', '\\n', '定义一个数组, cpp中的数组和python中的数组不一样，cpp中的数组只能存放同一类型的\\n', '数据, python中的数组可以存放不同类型的数据\\n', '\\n', '定义的方法如下:\\n', '\\n', '```\\n', 'int list[5]; // 一定要声明array的大小\\n', 'int list[5] = {1, 2, 3, 4, 5};\\n', 'int list[] = {1, 2, 3, 4, 5};\\n', '```\\n', '\\n', '- 当我们定义了一个array的时候，这个array其实就是一个指针，如list\\n', '- 数组是一块连续的内存\\n', '\\n', '\\n', '# 环境搭配\\n', '\\n', '## Linux\\n', '\\n', '```\\n', 'sudo apt install gcc, g++\\n', '```\\n', '\\n', '## Mac\\n', '\\n', '\\n', '\\n', '# day13\\n']\n"
     ]
    }
   ],
   "source": [
    "with open('t.md') as f:\n",
    "    print(f.readlines())\n"
   ]
  },
  {
   "cell_type": "code",
   "execution_count": 43,
   "id": "1a4e2452",
   "metadata": {},
   "outputs": [],
   "source": [
    "with open('t.md', 'w') as f:\n",
    "    f.write(front_line)"
   ]
  },
  {
   "cell_type": "code",
   "execution_count": null,
   "id": "a8b7189b",
   "metadata": {},
   "outputs": [],
   "source": []
  }
 ],
 "metadata": {
  "kernelspec": {
   "display_name": "Python 3",
   "language": "python",
   "name": "python3"
  },
  "language_info": {
   "codemirror_mode": {
    "name": "ipython",
    "version": 3
   },
   "file_extension": ".py",
   "mimetype": "text/x-python",
   "name": "python",
   "nbconvert_exporter": "python",
   "pygments_lexer": "ipython3",
   "version": "3.9.1"
  }
 },
 "nbformat": 4,
 "nbformat_minor": 5
}
